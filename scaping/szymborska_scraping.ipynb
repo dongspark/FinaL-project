{
 "cells": [
  {
   "cell_type": "code",
   "execution_count": 25,
   "id": "c0675709",
   "metadata": {},
   "outputs": [],
   "source": [
    "#Import important libraries\n",
    "from bs4 import BeautifulSoup\n",
    "import requests\n",
    "import pandas as pd\n",
    "from random import randint\n",
    "from time import sleep"
   ]
  },
  {
   "cell_type": "code",
   "execution_count": 28,
   "id": "5a70a66e",
   "metadata": {},
   "outputs": [],
   "source": [
    "url ='https://www.best-poems.net/wislawa-szymborska/poems/index.html'"
   ]
  },
  {
   "cell_type": "code",
   "execution_count": 29,
   "id": "cdd635fb",
   "metadata": {},
   "outputs": [
    {
     "data": {
      "text/plain": [
       "200"
      ]
     },
     "execution_count": 29,
     "metadata": {},
     "output_type": "execute_result"
    }
   ],
   "source": [
    "response = requests.get(url)\n",
    "response.status_code "
   ]
  },
  {
   "cell_type": "code",
   "execution_count": 30,
   "id": "8f813ce9",
   "metadata": {},
   "outputs": [],
   "source": [
    "soup = BeautifulSoup(response.content, \"html.parser\")"
   ]
  },
  {
   "cell_type": "code",
   "execution_count": 31,
   "id": "98b03cf7",
   "metadata": {},
   "outputs": [
    {
     "data": {
      "text/plain": [
       "[]"
      ]
     },
     "execution_count": 31,
     "metadata": {},
     "output_type": "execute_result"
    }
   ],
   "source": [
    "title_soup = soup.select('#content > ul > li:nth-child(31) > a')\n",
    "title_soup"
   ]
  },
  {
   "cell_type": "code",
   "execution_count": 32,
   "id": "a4052c33",
   "metadata": {},
   "outputs": [
    {
     "data": {
      "text/plain": [
       "[]"
      ]
     },
     "execution_count": 32,
     "metadata": {},
     "output_type": "execute_result"
    }
   ],
   "source": [
    "titl=[]\n",
    "for i in title_soup:\n",
    "    t= i.get(\"href\")\n",
    "    titl.append(t)\n",
    "\n",
    "titl"
   ]
  },
  {
   "cell_type": "code",
   "execution_count": 34,
   "id": "e92a305b",
   "metadata": {},
   "outputs": [
    {
     "name": "stdout",
     "output_type": "stream",
     "text": [
      "https://www.best-poems.net/wislawa-szymborska/poems/index.html\n",
      "Status code: 200\n",
      "https://www.best-poems.net/wislawa-szymborska/poems/index.html?page=1\n",
      "Status code: 200\n",
      "I will sleep for 0.31 second/s.\n",
      "https://www.best-poems.net/wislawa-szymborska/poems/index.html?page=2\n",
      "Status code: 200\n",
      "I will sleep for 3.537 second/s.\n",
      "https://www.best-poems.net/wislawa-szymborska/poems/index.html?page=3\n",
      "Status code: 200\n",
      "I will sleep for 1.873 second/s.\n"
     ]
    }
   ],
   "source": [
    "# Get all the pages from poemhunter with Mary Oliver's poems:\n",
    "\n",
    "pages = [] #list of all responses\n",
    "\n",
    "#start with the first page, that has a slightly different url:\n",
    "url ='https://www.best-poems.net/wislawa-szymborska/poems/index.html'\n",
    "print(url)\n",
    "response = requests.get(url)\n",
    "print(\"Status code: \" + str(response.status_code))\n",
    "pages.append(response)\n",
    "\n",
    "\n",
    "#In this for-loop the pages 2-10 are scraped and put into pages:\n",
    "for i in range(1,4):\n",
    "    page= str(i)\n",
    "    url = 'https://www.best-poems.net/wislawa-szymborska/poems/index.html?page=' + page\n",
    "    print(url)\n",
    "    \n",
    "    response = requests.get(url)\n",
    "    \n",
    "    print(\"Status code: \" + str(response.status_code))\n",
    "    \n",
    "    # store response into \"pages\" list\n",
    "    pages.append(response)\n",
    "    \n",
    "    # respectful nap:\n",
    "    wait_time = randint(1,4000)\n",
    "    print(\"I will sleep for \" + str(wait_time/1000) + \" second/s.\")\n",
    "    sleep(wait_time/1000)"
   ]
  },
  {
   "cell_type": "code",
   "execution_count": 35,
   "id": "f9801711",
   "metadata": {},
   "outputs": [],
   "source": [
    "#Get the urls for the specific poems:\n",
    "\n",
    "titles=[]\n",
    "url_list= []\n",
    "\n",
    "for i in range(len(pages)):\n",
    "    # parse all pages\n",
    "    parsed = BeautifulSoup(pages[i].content, \"html.parser\")\n",
    "    \n",
    "    # creating the title soup\n",
    "    for j in range(1,31):\n",
    "        title_soup = parsed.select('#content > ul > li:nth-child('+ str(j) +') > a')\n",
    "    \n",
    "    #And append every title to the titles list\n",
    "        for item in title_soup:\n",
    "            url_list.append(item.get(\"href\"))\n",
    "            titles.append(item.get_text())\n",
    "        "
   ]
  },
  {
   "cell_type": "code",
   "execution_count": 9,
   "id": "b5b2fe19",
   "metadata": {},
   "outputs": [
    {
     "data": {
      "text/plain": [
       "4"
      ]
     },
     "execution_count": 9,
     "metadata": {},
     "output_type": "execute_result"
    }
   ],
   "source": [
    "len(pages)"
   ]
  },
  {
   "cell_type": "code",
   "execution_count": 10,
   "id": "a4688100",
   "metadata": {},
   "outputs": [
    {
     "data": {
      "text/plain": [
       "0"
      ]
     },
     "execution_count": 10,
     "metadata": {},
     "output_type": "execute_result"
    }
   ],
   "source": [
    "len(url_list)"
   ]
  },
  {
   "cell_type": "code",
   "execution_count": 11,
   "id": "563f5de6",
   "metadata": {},
   "outputs": [
    {
     "data": {
      "text/plain": [
       "[]"
      ]
     },
     "execution_count": 11,
     "metadata": {},
     "output_type": "execute_result"
    }
   ],
   "source": [
    "titles"
   ]
  },
  {
   "cell_type": "code",
   "execution_count": 12,
   "id": "40a56008",
   "metadata": {},
   "outputs": [],
   "source": [
    "# Now get the poems itself:\n",
    "\n",
    "poem_soup = []\n",
    "\n",
    "for url in url_list:\n",
    "    page = 'https://www.best-poems.net'+str(url) #Create url by means of the url_list\n",
    "    print(page)\n",
    "    \n",
    "    response = requests.get(page)               # Get the soup of the webpage\n",
    "    print(\"Status code: \" + str(response.status_code))\n",
    "    \n",
    "    poem_soup.append(response)                  # Append to poem_soup; later I will get the poems from this soup\n",
    "    \n",
    "    # respectful nap:\n",
    "    wait_time = randint(1,4000)\n",
    "    print(\"I will sleep for \" + str(wait_time/1000) + \" second/s.\")\n",
    "    sleep(wait_time/1000)"
   ]
  },
  {
   "cell_type": "code",
   "execution_count": 13,
   "id": "1a73a7e8",
   "metadata": {},
   "outputs": [],
   "source": [
    "poems_text = []\n",
    "\n",
    "for i in range(len(poem_soup)):\n",
    "    # parse all pages\n",
    "    parsed = BeautifulSoup(poem_soup[i].content, \"html.parser\")\n",
    "    \n",
    "    # creating the poem soup\n",
    "    #beatiful_poem_soup = parsed.select('#content')\n",
    "    text = parsed.select('#content')[0].get_text()\n",
    "    poems_text.append(text)"
   ]
  },
  {
   "cell_type": "code",
   "execution_count": 14,
   "id": "c86bdabb",
   "metadata": {},
   "outputs": [
    {
     "data": {
      "text/plain": [
       "[]"
      ]
     },
     "execution_count": 14,
     "metadata": {},
     "output_type": "execute_result"
    }
   ],
   "source": [
    "poems_text"
   ]
  },
  {
   "cell_type": "code",
   "execution_count": 15,
   "id": "59a246b3",
   "metadata": {},
   "outputs": [
    {
     "data": {
      "text/html": [
       "<div>\n",
       "<style scoped>\n",
       "    .dataframe tbody tr th:only-of-type {\n",
       "        vertical-align: middle;\n",
       "    }\n",
       "\n",
       "    .dataframe tbody tr th {\n",
       "        vertical-align: top;\n",
       "    }\n",
       "\n",
       "    .dataframe thead th {\n",
       "        text-align: right;\n",
       "    }\n",
       "</style>\n",
       "<table border=\"1\" class=\"dataframe\">\n",
       "  <thead>\n",
       "    <tr style=\"text-align: right;\">\n",
       "      <th></th>\n",
       "      <th>title</th>\n",
       "      <th>text</th>\n",
       "    </tr>\n",
       "  </thead>\n",
       "  <tbody>\n",
       "  </tbody>\n",
       "</table>\n",
       "</div>"
      ],
      "text/plain": [
       "Empty DataFrame\n",
       "Columns: [title, text]\n",
       "Index: []"
      ]
     },
     "execution_count": 15,
     "metadata": {},
     "output_type": "execute_result"
    }
   ],
   "source": [
    "#Put this all together in a dataframe and save it in a csv-file:\n",
    "df = pd.DataFrame({'title':titles, 'text':poems_text})\n",
    "df"
   ]
  },
  {
   "cell_type": "code",
   "execution_count": 16,
   "id": "2a2b37ea",
   "metadata": {},
   "outputs": [],
   "source": [
    "df.to_csv('wislawa_szymborska.csv', index=False)"
   ]
  },
  {
   "cell_type": "code",
   "execution_count": null,
   "id": "11583b7c",
   "metadata": {},
   "outputs": [],
   "source": []
  },
  {
   "cell_type": "code",
   "execution_count": null,
   "id": "b40b85fe",
   "metadata": {},
   "outputs": [],
   "source": []
  }
 ],
 "metadata": {
  "kernelspec": {
   "display_name": "Python 3 (ipykernel)",
   "language": "python",
   "name": "python3"
  },
  "language_info": {
   "codemirror_mode": {
    "name": "ipython",
    "version": 3
   },
   "file_extension": ".py",
   "mimetype": "text/x-python",
   "name": "python",
   "nbconvert_exporter": "python",
   "pygments_lexer": "ipython3",
   "version": "3.9.12"
  }
 },
 "nbformat": 4,
 "nbformat_minor": 5
}
